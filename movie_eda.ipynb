{
 "cells": [
  {
   "cell_type": "code",
   "execution_count": 1,
   "metadata": {},
   "outputs": [],
   "source": [
    "import pandas as pd\n",
    "import numpy as np\n",
    "import seaborn as sns\n",
    "import matplotlib.pyplot as plt"
   ]
  },
  {
   "cell_type": "code",
   "execution_count": 2,
   "metadata": {},
   "outputs": [],
   "source": [
    "df = pd.read_csv('Data/movie_data.csv')"
   ]
  },
  {
   "cell_type": "code",
   "execution_count": null,
   "metadata": {},
   "outputs": [],
   "source": [
    "df.isnull().sum()"
   ]
  },
  {
   "cell_type": "markdown",
   "metadata": {},
   "source": [
    "No nulls in df, now lets check for zeros:"
   ]
  },
  {
   "cell_type": "code",
   "execution_count": null,
   "metadata": {},
   "outputs": [],
   "source": [
    "gross = len(df[df['world_gross']==0])\n",
    "votes = len(df[df['numVotes']==0])\n",
    "rating = len(df[df['averageRating']==0])\n",
    "\n",
    "print('The number of cols with zero gross is:', gross\n",
    "      ,'\\nThe number of cols with zero votes is:', votes \n",
    "      ,'\\nThe number of cols with zero ratis is:',rating)"
   ]
  },
  {
   "cell_type": "markdown",
   "metadata": {},
   "source": [
    "No zeros either! Time to get a better sense of the data:"
   ]
  },
  {
   "cell_type": "code",
   "execution_count": null,
   "metadata": {},
   "outputs": [],
   "source": [
    "df.columns"
   ]
  },
  {
   "cell_type": "code",
   "execution_count": null,
   "metadata": {},
   "outputs": [],
   "source": [
    "df.describe()"
   ]
  },
  {
   "cell_type": "markdown",
   "metadata": {},
   "source": [
    "Problem 3: The budget/revenue columns are formatted incorrectly. Resolving that:"
   ]
  },
  {
   "cell_type": "code",
   "execution_count": 10,
   "metadata": {},
   "outputs": [],
   "source": [
    "#these columns have incorrect formatting\n",
    "cols = ['budget','domestic_gross','world_gross']\n",
    "\n",
    "# Remove '$' and ',' then convert to float\n",
    "df[cols] = df[cols].apply(lambda x: x.str.replace('[$,]', '', regex=True).astype(float))"
   ]
  },
  {
   "cell_type": "code",
   "execution_count": null,
   "metadata": {},
   "outputs": [],
   "source": [
    "df.describe()"
   ]
  },
  {
   "cell_type": "markdown",
   "metadata": {},
   "source": [
    "Rechecking for zeros in key columns:"
   ]
  },
  {
   "cell_type": "code",
   "execution_count": null,
   "metadata": {},
   "outputs": [],
   "source": [
    "domestic = len(df[df['domestic_gross']==0])\n",
    "gross = len(df[df['world_gross']==0])\n",
    "votes = len(df[df['numVotes']==0])\n",
    "rating = len(df[df['averageRating']==0])\n",
    "budget = len(df[df['budget']==0])\n",
    "\n",
    "print('The number of cols with zero domestic gross is:', domestic\n",
    "      ,'\\nThe number of cols with zero world gross is:', gross\n",
    "      ,'\\nThe number of cols with zero votes is:', votes \n",
    "      ,'\\nThe number of cols with zero ratings is:',rating\n",
    "      ,'\\nThe number of cols with zero budget is:',budget)"
   ]
  },
  {
   "cell_type": "markdown",
   "metadata": {},
   "source": [
    "We can now see that there are some columns with zero gross revenue. The difference between domestic and world is understandable as some international films have no domestic (US) gross revenue. Further exploration of revenue:"
   ]
  },
  {
   "cell_type": "code",
   "execution_count": null,
   "metadata": {},
   "outputs": [],
   "source": [
    "no_domestic = df[df['domestic_gross']==0]\n",
    "no_domestic"
   ]
  },
  {
   "cell_type": "markdown",
   "metadata": {},
   "source": [
    "As initially thought, there are many international films that have world_gross revenue but no revenue in the US. I will keep these rows, but get rid of the rows with zeros in each revenue column:"
   ]
  },
  {
   "cell_type": "code",
   "execution_count": 18,
   "metadata": {},
   "outputs": [],
   "source": [
    "df1 = df[~((df['domestic_gross'] == 0) & (df['world_gross'] == 0))]"
   ]
  },
  {
   "cell_type": "code",
   "execution_count": null,
   "metadata": {},
   "outputs": [],
   "source": [
    "df1[df1['domestic_gross'] == 0]\n",
    "# df1[df1['world_gross'] == 0]"
   ]
  },
  {
   "cell_type": "code",
   "execution_count": 26,
   "metadata": {},
   "outputs": [],
   "source": [
    "df = df1"
   ]
  }
 ],
 "metadata": {
  "kernelspec": {
   "display_name": "first_env",
   "language": "python",
   "name": "first_env"
  },
  "language_info": {
   "codemirror_mode": {
    "name": "ipython",
    "version": 3
   },
   "file_extension": ".py",
   "mimetype": "text/x-python",
   "name": "python",
   "nbconvert_exporter": "python",
   "pygments_lexer": "ipython3",
   "version": "3.9.15"
  }
 },
 "nbformat": 4,
 "nbformat_minor": 2
}
