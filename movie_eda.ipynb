{
 "cells": [
  {
   "cell_type": "code",
   "execution_count": 1,
   "metadata": {},
   "outputs": [],
   "source": [
    "import pandas as pd\n",
    "import numpy as np\n",
    "import seaborn as sns\n",
    "import matplotlib.pyplot as plt"
   ]
  },
  {
   "cell_type": "code",
   "execution_count": 2,
   "metadata": {},
   "outputs": [],
   "source": [
    "df = pd.read_csv('Data/movie_data.csv')"
   ]
  },
  {
   "cell_type": "code",
   "execution_count": null,
   "metadata": {},
   "outputs": [],
   "source": [
    "df.isnull().sum()"
   ]
  },
  {
   "cell_type": "markdown",
   "metadata": {},
   "source": [
    "No nulls in df, now lets check for zeros:"
   ]
  },
  {
   "cell_type": "code",
   "execution_count": null,
   "metadata": {},
   "outputs": [],
   "source": [
    "gross = len(df[df['world_gross']==0])\n",
    "votes = len(df[df['numVotes']==0])\n",
    "rating = len(df[df['averageRating']==0])\n",
    "\n",
    "print('The number of cols with zero gross is:', gross\n",
    "      ,'\\nThe number of cols with zero votes is:', votes \n",
    "      ,'\\nThe number of cols with zero ratis is:',rating)"
   ]
  },
  {
   "cell_type": "markdown",
   "metadata": {},
   "source": [
    "No zeros either! Time to get a better sense of the data:"
   ]
  },
  {
   "cell_type": "code",
   "execution_count": null,
   "metadata": {},
   "outputs": [],
   "source": [
    "df.columns"
   ]
  },
  {
   "cell_type": "code",
   "execution_count": null,
   "metadata": {},
   "outputs": [],
   "source": [
    "df.describe()"
   ]
  },
  {
   "cell_type": "markdown",
   "metadata": {},
   "source": [
    "Problem 3: The budget/revenue columns are formatted incorrectly. Resolving that:"
   ]
  },
  {
   "cell_type": "code",
   "execution_count": 10,
   "metadata": {},
   "outputs": [],
   "source": [
    "#these columns have incorrect formatting\n",
    "cols = ['budget','domestic_gross','world_gross']\n",
    "\n",
    "# Remove '$' and ',' then convert to float\n",
    "df[cols] = df[cols].apply(lambda x: x.str.replace('[$,]', '', regex=True).astype(float))"
   ]
  },
  {
   "cell_type": "code",
   "execution_count": null,
   "metadata": {},
   "outputs": [],
   "source": [
    "df.describe()"
   ]
  },
  {
   "cell_type": "markdown",
   "metadata": {},
   "source": [
    "Rechecking for zeros in key columns:"
   ]
  },
  {
   "cell_type": "code",
   "execution_count": null,
   "metadata": {},
   "outputs": [],
   "source": [
    "domestic = len(df[df['domestic_gross']==0])\n",
    "gross = len(df[df['world_gross']==0])\n",
    "votes = len(df[df['numVotes']==0])\n",
    "rating = len(df[df['averageRating']==0])\n",
    "budget = len(df[df['budget']==0])\n",
    "\n",
    "print('The number of cols with zero domestic gross is:', domestic\n",
    "      ,'\\nThe number of cols with zero world gross is:', gross\n",
    "      ,'\\nThe number of cols with zero votes is:', votes \n",
    "      ,'\\nThe number of cols with zero ratings is:',rating\n",
    "      ,'\\nThe number of cols with zero budget is:',budget)"
   ]
  },
  {
   "cell_type": "markdown",
   "metadata": {},
   "source": [
    "We can now see that there are some columns with zero gross revenue. The difference between domestic and world is understandable as some international films have no domestic (US) gross revenue. Further exploration of revenue:"
   ]
  },
  {
   "cell_type": "code",
   "execution_count": null,
   "metadata": {},
   "outputs": [],
   "source": [
    "no_domestic = df[df['domestic_gross']==0]\n",
    "no_domestic"
   ]
  },
  {
   "cell_type": "markdown",
   "metadata": {},
   "source": [
    "As initially thought, there are many international films that have world_gross revenue but no revenue in the US. I will keep these rows, but get rid of the rows with zeros in each revenue column:"
   ]
  },
  {
   "cell_type": "code",
   "execution_count": 18,
   "metadata": {},
   "outputs": [],
   "source": [
    "df1 = df[~((df['domestic_gross'] == 0) & (df['world_gross'] == 0))]"
   ]
  },
  {
   "cell_type": "code",
   "execution_count": null,
   "metadata": {},
   "outputs": [],
   "source": [
    "df1[df1['domestic_gross'] == 0]\n",
    "# df1[df1['world_gross'] == 0]"
   ]
  },
  {
   "cell_type": "code",
   "execution_count": 26,
   "metadata": {},
   "outputs": [],
   "source": [
    "df = df1"
   ]
  },
  {
   "cell_type": "markdown",
   "metadata": {},
   "source": [
    "Now lets explore our data further:"
   ]
  },
  {
   "cell_type": "code",
   "execution_count": 31,
   "metadata": {},
   "outputs": [
    {
     "data": {
      "text/plain": [
       "Index(['Rank', 'date', 'primaryTitle_x', 'budget', 'domestic_gross',\n",
       "       'world_gross', 'title_x', 'year', 'name_id', 'tconst', 'titleType',\n",
       "       'primaryTitle_y', 'originalTitle', 'isAdult', 'startYear', 'endYear',\n",
       "       'runtimeMinutes', 'genres', 'averageRating', 'numVotes', 'nconst',\n",
       "       'writers', 'primaryName', 'birthYear', 'deathYear', 'primaryProfession',\n",
       "       'knownForTitles', 'title_y'],\n",
       "      dtype='object')"
      ]
     },
     "execution_count": 31,
     "metadata": {},
     "output_type": "execute_result"
    }
   ],
   "source": [
    "df.columns"
   ]
  },
  {
   "cell_type": "markdown",
   "metadata": {},
   "source": [
    "Will drop some duplicate/irrelevant columns:"
   ]
  },
  {
   "cell_type": "code",
   "execution_count": 33,
   "metadata": {},
   "outputs": [],
   "source": [
    "drop_these = ['title_x','name_id','tconst','titleType','primaryTitle_y','endYear','nconst','writers','knownForTitles','title_y']\n",
    "df2 = df.drop(columns=drop_these,index=1)"
   ]
  },
  {
   "cell_type": "code",
   "execution_count": 30,
   "metadata": {},
   "outputs": [
    {
     "data": {
      "text/html": [
       "<div>\n",
       "<style scoped>\n",
       "    .dataframe tbody tr th:only-of-type {\n",
       "        vertical-align: middle;\n",
       "    }\n",
       "\n",
       "    .dataframe tbody tr th {\n",
       "        vertical-align: top;\n",
       "    }\n",
       "\n",
       "    .dataframe thead th {\n",
       "        text-align: right;\n",
       "    }\n",
       "</style>\n",
       "<table border=\"1\" class=\"dataframe\">\n",
       "  <thead>\n",
       "    <tr style=\"text-align: right;\">\n",
       "      <th></th>\n",
       "      <th>budget</th>\n",
       "      <th>domestic_gross</th>\n",
       "      <th>world_gross</th>\n",
       "      <th>year</th>\n",
       "      <th>isAdult</th>\n",
       "      <th>startYear</th>\n",
       "      <th>averageRating</th>\n",
       "      <th>numVotes</th>\n",
       "    </tr>\n",
       "  </thead>\n",
       "  <tbody>\n",
       "    <tr>\n",
       "      <th>count</th>\n",
       "      <td>4.458000e+03</td>\n",
       "      <td>4.458000e+03</td>\n",
       "      <td>4.458000e+03</td>\n",
       "      <td>4458.000000</td>\n",
       "      <td>4458.000000</td>\n",
       "      <td>4458.000000</td>\n",
       "      <td>4458.000000</td>\n",
       "      <td>4.458000e+03</td>\n",
       "    </tr>\n",
       "    <tr>\n",
       "      <th>mean</th>\n",
       "      <td>3.810359e+07</td>\n",
       "      <td>4.968351e+07</td>\n",
       "      <td>1.073424e+08</td>\n",
       "      <td>2004.686182</td>\n",
       "      <td>0.000224</td>\n",
       "      <td>2004.686182</td>\n",
       "      <td>6.393786</td>\n",
       "      <td>1.406503e+05</td>\n",
       "    </tr>\n",
       "    <tr>\n",
       "      <th>std</th>\n",
       "      <td>4.667426e+07</td>\n",
       "      <td>7.369079e+07</td>\n",
       "      <td>1.901837e+08</td>\n",
       "      <td>13.297395</td>\n",
       "      <td>0.014977</td>\n",
       "      <td>13.297395</td>\n",
       "      <td>1.016569</td>\n",
       "      <td>2.277822e+05</td>\n",
       "    </tr>\n",
       "    <tr>\n",
       "      <th>min</th>\n",
       "      <td>7.000000e+03</td>\n",
       "      <td>0.000000e+00</td>\n",
       "      <td>4.300000e+01</td>\n",
       "      <td>1915.000000</td>\n",
       "      <td>0.000000</td>\n",
       "      <td>1915.000000</td>\n",
       "      <td>1.300000</td>\n",
       "      <td>5.000000e+00</td>\n",
       "    </tr>\n",
       "    <tr>\n",
       "      <th>25%</th>\n",
       "      <td>9.200000e+06</td>\n",
       "      <td>7.000000e+06</td>\n",
       "      <td>1.123360e+07</td>\n",
       "      <td>1999.000000</td>\n",
       "      <td>0.000000</td>\n",
       "      <td>1999.000000</td>\n",
       "      <td>5.800000</td>\n",
       "      <td>2.102300e+04</td>\n",
       "    </tr>\n",
       "    <tr>\n",
       "      <th>50%</th>\n",
       "      <td>2.200000e+07</td>\n",
       "      <td>2.618326e+07</td>\n",
       "      <td>4.082910e+07</td>\n",
       "      <td>2007.000000</td>\n",
       "      <td>0.000000</td>\n",
       "      <td>2007.000000</td>\n",
       "      <td>6.500000</td>\n",
       "      <td>6.576000e+04</td>\n",
       "    </tr>\n",
       "    <tr>\n",
       "      <th>75%</th>\n",
       "      <td>5.000000e+07</td>\n",
       "      <td>6.083951e+07</td>\n",
       "      <td>1.192884e+08</td>\n",
       "      <td>2014.000000</td>\n",
       "      <td>0.000000</td>\n",
       "      <td>2014.000000</td>\n",
       "      <td>7.100000</td>\n",
       "      <td>1.636245e+05</td>\n",
       "    </tr>\n",
       "    <tr>\n",
       "      <th>max</th>\n",
       "      <td>5.332000e+08</td>\n",
       "      <td>9.366622e+08</td>\n",
       "      <td>2.923706e+09</td>\n",
       "      <td>2024.000000</td>\n",
       "      <td>1.000000</td>\n",
       "      <td>2024.000000</td>\n",
       "      <td>9.300000</td>\n",
       "      <td>2.956432e+06</td>\n",
       "    </tr>\n",
       "  </tbody>\n",
       "</table>\n",
       "</div>"
      ],
      "text/plain": [
       "             budget  domestic_gross   world_gross         year      isAdult  \\\n",
       "count  4.458000e+03    4.458000e+03  4.458000e+03  4458.000000  4458.000000   \n",
       "mean   3.810359e+07    4.968351e+07  1.073424e+08  2004.686182     0.000224   \n",
       "std    4.667426e+07    7.369079e+07  1.901837e+08    13.297395     0.014977   \n",
       "min    7.000000e+03    0.000000e+00  4.300000e+01  1915.000000     0.000000   \n",
       "25%    9.200000e+06    7.000000e+06  1.123360e+07  1999.000000     0.000000   \n",
       "50%    2.200000e+07    2.618326e+07  4.082910e+07  2007.000000     0.000000   \n",
       "75%    5.000000e+07    6.083951e+07  1.192884e+08  2014.000000     0.000000   \n",
       "max    5.332000e+08    9.366622e+08  2.923706e+09  2024.000000     1.000000   \n",
       "\n",
       "         startYear  averageRating      numVotes  \n",
       "count  4458.000000    4458.000000  4.458000e+03  \n",
       "mean   2004.686182       6.393786  1.406503e+05  \n",
       "std      13.297395       1.016569  2.277822e+05  \n",
       "min    1915.000000       1.300000  5.000000e+00  \n",
       "25%    1999.000000       5.800000  2.102300e+04  \n",
       "50%    2007.000000       6.500000  6.576000e+04  \n",
       "75%    2014.000000       7.100000  1.636245e+05  \n",
       "max    2024.000000       9.300000  2.956432e+06  "
      ]
     },
     "execution_count": 30,
     "metadata": {},
     "output_type": "execute_result"
    }
   ],
   "source": [
    "df.describe()"
   ]
  },
  {
   "cell_type": "markdown",
   "metadata": {},
   "source": [
    "Numeric columns look pretty solid at first glance. Saving file for further review in Tableau"
   ]
  },
  {
   "cell_type": "code",
   "execution_count": 38,
   "metadata": {},
   "outputs": [],
   "source": [
    "df2.to_csv('movies_tableau.csv',index=False)"
   ]
  },
  {
   "cell_type": "code",
   "execution_count": null,
   "metadata": {},
   "outputs": [],
   "source": []
  }
 ],
 "metadata": {
  "kernelspec": {
   "display_name": "first_env",
   "language": "python",
   "name": "first_env"
  },
  "language_info": {
   "codemirror_mode": {
    "name": "ipython",
    "version": 3
   },
   "file_extension": ".py",
   "mimetype": "text/x-python",
   "name": "python",
   "nbconvert_exporter": "python",
   "pygments_lexer": "ipython3",
   "version": "3.9.15"
  }
 },
 "nbformat": 4,
 "nbformat_minor": 2
}
