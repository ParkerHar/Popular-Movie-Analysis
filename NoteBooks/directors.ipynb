{
 "cells": [
  {
   "cell_type": "code",
   "execution_count": 1,
   "metadata": {},
   "outputs": [],
   "source": [
    "import pandas as pd\n",
    "import numpy as np\n",
    "from thefuzz import process"
   ]
  },
  {
   "cell_type": "code",
   "execution_count": 41,
   "metadata": {},
   "outputs": [
    {
     "name": "stderr",
     "output_type": "stream",
     "text": [
      "/var/folders/0k/y2qbjrj17tx6k7cdjb67jg100000gn/T/ipykernel_57177/1184675959.py:1: DtypeWarning: Columns (5) have mixed types. Specify dtype option on import or set low_memory=False.\n",
      "  movies = pd.read_csv('Data/movie_ratings.csv')\n"
     ]
    }
   ],
   "source": [
    "movies = pd.read_csv('Data/movie_ratings.csv')\n",
    "cast_df = pd.read_csv('/Users/parkerharalds/Downloads/title.crew.tsv', delimiter='\\t')\n",
    "name_df = pd.read_csv('/Users/parkerharalds/Downloads/name.basics.tsv', delimiter='\\t')\n",
    "rev_df = pd.read_csv('Data/rev_df.csv')"
   ]
  },
  {
   "cell_type": "markdown",
   "metadata": {},
   "source": [
    "Creating a seperate row for each director:"
   ]
  },
  {
   "cell_type": "code",
   "execution_count": 42,
   "metadata": {},
   "outputs": [],
   "source": [
    "#There are a lot of rows with multiple directors\n",
    "rows_with_commas = cast_df[cast_df['directors'].str.contains(',')]"
   ]
  },
  {
   "cell_type": "code",
   "execution_count": 43,
   "metadata": {},
   "outputs": [],
   "source": [
    "directors_df = cast_df"
   ]
  },
  {
   "cell_type": "code",
   "execution_count": 44,
   "metadata": {},
   "outputs": [],
   "source": [
    "#breaking each row of director using ',' and creating a new row\n",
    "directors_df['directors'] = directors_df['directors'].str.split(',')\n",
    "directors_df = directors_df.explode('directors').reset_index(drop=True)"
   ]
  },
  {
   "cell_type": "markdown",
   "metadata": {},
   "source": [
    "Merging all DFs:"
   ]
  },
  {
   "cell_type": "code",
   "execution_count": 45,
   "metadata": {},
   "outputs": [],
   "source": [
    "movie_df = pd.merge(movies,directors_df,on='tconst')"
   ]
  },
  {
   "cell_type": "code",
   "execution_count": 50,
   "metadata": {},
   "outputs": [],
   "source": [
    "main_df = pd.merge(movie_df,name_df,left_on='directors',right_on='nconst')"
   ]
  },
  {
   "cell_type": "code",
   "execution_count": 53,
   "metadata": {},
   "outputs": [],
   "source": [
    "#creating name_id to join revenue and imdb data\n",
    "main_df['name_id'] = main_df['primaryTitle'] + main_df['startYear'].astype(str)"
   ]
  },
  {
   "cell_type": "code",
   "execution_count": 54,
   "metadata": {},
   "outputs": [],
   "source": [
    "#name_id create for revenue df merge\n",
    "rev_df['date'] = pd.to_datetime(rev_df['date'])\n",
    "rev_df['year'] = rev_df['date'].dt.year\n",
    "rev_df['name_id'] = rev_df['primaryTitle'] + rev_df['year'].astype(str)"
   ]
  },
  {
   "cell_type": "markdown",
   "metadata": {},
   "source": [
    "Using fuzzy merge to join data:"
   ]
  },
  {
   "cell_type": "code",
   "execution_count": 55,
   "metadata": {},
   "outputs": [],
   "source": [
    "# Create a dictionary to store the best match from main_df for each name in num_df\n",
    "match_dict = {}\n",
    "for name in rev_df['name_id']:\n",
    "   # Use extractOne to get the best match\n",
    "    result = process.extractOne(name, main_df['name_id'])\n",
    "    \n",
    "    # Only proceed if result is valid\n",
    "    if result:\n",
    "        # Unpack result to get best_match and score, ignore any extras\n",
    "        best_match, score = result[:2]\n",
    "        if score > 90:  # Threshold for a good match\n",
    "            match_dict[name] = best_match\n",
    "\n",
    "# Map the matches from df2 to df1's 'name' column\n",
    "rev_df['matched_name'] = rev_df['name_id'].map(match_dict)"
   ]
  },
  {
   "cell_type": "code",
   "execution_count": 56,
   "metadata": {},
   "outputs": [],
   "source": [
    "merged_df = pd.merge(rev_df, main_df, left_on='matched_name', right_on='name_id', how='left')"
   ]
  },
  {
   "cell_type": "code",
   "execution_count": 65,
   "metadata": {},
   "outputs": [],
   "source": [
    "drop_these = ['Rank','name_id_x','matched_name','tconst','titleType','primaryTitle_y','endYear'\n",
    "              ,'writers','nconst','deathYear','name_id_y','knownForTitles','primaryProfession','directors']\n",
    "df = merged_df.drop(columns=drop_these,index=1)"
   ]
  },
  {
   "cell_type": "code",
   "execution_count": 69,
   "metadata": {},
   "outputs": [],
   "source": [
    "df.to_csv('directors.csv',index=False)"
   ]
  }
 ],
 "metadata": {
  "kernelspec": {
   "display_name": "first_env",
   "language": "python",
   "name": "first_env"
  },
  "language_info": {
   "codemirror_mode": {
    "name": "ipython",
    "version": 3
   },
   "file_extension": ".py",
   "mimetype": "text/x-python",
   "name": "python",
   "nbconvert_exporter": "python",
   "pygments_lexer": "ipython3",
   "version": "3.9.15"
  }
 },
 "nbformat": 4,
 "nbformat_minor": 2
}
