{
 "cells": [
  {
   "cell_type": "code",
   "execution_count": 2,
   "metadata": {},
   "outputs": [],
   "source": [
    "import pandas as pd\n",
    "import seaborn as sns\n",
    "import matplotlib.pyplot as plt\n",
    "from scipy import stats"
   ]
  },
  {
   "cell_type": "code",
   "execution_count": 24,
   "metadata": {},
   "outputs": [],
   "source": [
    "df = pd.read_csv('Data/movies_tableau_V3.csv')"
   ]
  },
  {
   "cell_type": "markdown",
   "metadata": {},
   "source": [
    "Quick check of the relationship between some of the numeric variables in DF:"
   ]
  },
  {
   "cell_type": "code",
   "execution_count": 25,
   "metadata": {},
   "outputs": [
    {
     "data": {
      "text/html": [
       "<div>\n",
       "<style scoped>\n",
       "    .dataframe tbody tr th:only-of-type {\n",
       "        vertical-align: middle;\n",
       "    }\n",
       "\n",
       "    .dataframe tbody tr th {\n",
       "        vertical-align: top;\n",
       "    }\n",
       "\n",
       "    .dataframe thead th {\n",
       "        text-align: right;\n",
       "    }\n",
       "</style>\n",
       "<table border=\"1\" class=\"dataframe\">\n",
       "  <thead>\n",
       "    <tr style=\"text-align: right;\">\n",
       "      <th></th>\n",
       "      <th>budget</th>\n",
       "      <th>domestic_revenue</th>\n",
       "      <th>world_revenue</th>\n",
       "      <th>year</th>\n",
       "      <th>isAdult</th>\n",
       "      <th>startYear</th>\n",
       "      <th>averageRating</th>\n",
       "      <th>numVotes</th>\n",
       "    </tr>\n",
       "  </thead>\n",
       "  <tbody>\n",
       "    <tr>\n",
       "      <th>budget</th>\n",
       "      <td>1.000000</td>\n",
       "      <td>0.683269</td>\n",
       "      <td>0.735739</td>\n",
       "      <td>0.216806</td>\n",
       "      <td>-0.009681</td>\n",
       "      <td>0.190948</td>\n",
       "      <td>0.026970</td>\n",
       "      <td>0.379888</td>\n",
       "    </tr>\n",
       "    <tr>\n",
       "      <th>domestic_revenue</th>\n",
       "      <td>0.683269</td>\n",
       "      <td>1.000000</td>\n",
       "      <td>0.942330</td>\n",
       "      <td>0.071537</td>\n",
       "      <td>-0.000062</td>\n",
       "      <td>0.059328</td>\n",
       "      <td>0.169823</td>\n",
       "      <td>0.528997</td>\n",
       "    </tr>\n",
       "    <tr>\n",
       "      <th>world_revenue</th>\n",
       "      <td>0.735739</td>\n",
       "      <td>0.942330</td>\n",
       "      <td>1.000000</td>\n",
       "      <td>0.129769</td>\n",
       "      <td>-0.003701</td>\n",
       "      <td>0.115483</td>\n",
       "      <td>0.166862</td>\n",
       "      <td>0.511019</td>\n",
       "    </tr>\n",
       "    <tr>\n",
       "      <th>year</th>\n",
       "      <td>0.216806</td>\n",
       "      <td>0.071537</td>\n",
       "      <td>0.129769</td>\n",
       "      <td>1.000000</td>\n",
       "      <td>-0.032476</td>\n",
       "      <td>0.886654</td>\n",
       "      <td>-0.114854</td>\n",
       "      <td>0.002709</td>\n",
       "    </tr>\n",
       "    <tr>\n",
       "      <th>isAdult</th>\n",
       "      <td>-0.009681</td>\n",
       "      <td>-0.000062</td>\n",
       "      <td>-0.003701</td>\n",
       "      <td>-0.032476</td>\n",
       "      <td>1.000000</td>\n",
       "      <td>-0.034139</td>\n",
       "      <td>-0.019318</td>\n",
       "      <td>-0.006374</td>\n",
       "    </tr>\n",
       "    <tr>\n",
       "      <th>startYear</th>\n",
       "      <td>0.190948</td>\n",
       "      <td>0.059328</td>\n",
       "      <td>0.115483</td>\n",
       "      <td>0.886654</td>\n",
       "      <td>-0.034139</td>\n",
       "      <td>1.000000</td>\n",
       "      <td>-0.049130</td>\n",
       "      <td>-0.042764</td>\n",
       "    </tr>\n",
       "    <tr>\n",
       "      <th>averageRating</th>\n",
       "      <td>0.026970</td>\n",
       "      <td>0.169823</td>\n",
       "      <td>0.166862</td>\n",
       "      <td>-0.114854</td>\n",
       "      <td>-0.019318</td>\n",
       "      <td>-0.049130</td>\n",
       "      <td>1.000000</td>\n",
       "      <td>0.354898</td>\n",
       "    </tr>\n",
       "    <tr>\n",
       "      <th>numVotes</th>\n",
       "      <td>0.379888</td>\n",
       "      <td>0.528997</td>\n",
       "      <td>0.511019</td>\n",
       "      <td>0.002709</td>\n",
       "      <td>-0.006374</td>\n",
       "      <td>-0.042764</td>\n",
       "      <td>0.354898</td>\n",
       "      <td>1.000000</td>\n",
       "    </tr>\n",
       "  </tbody>\n",
       "</table>\n",
       "</div>"
      ],
      "text/plain": [
       "                    budget  domestic_revenue  ...  averageRating  numVotes\n",
       "budget            1.000000          0.683269  ...       0.026970  0.379888\n",
       "domestic_revenue  0.683269          1.000000  ...       0.169823  0.528997\n",
       "world_revenue     0.735739          0.942330  ...       0.166862  0.511019\n",
       "year              0.216806          0.071537  ...      -0.114854  0.002709\n",
       "isAdult          -0.009681         -0.000062  ...      -0.019318 -0.006374\n",
       "startYear         0.190948          0.059328  ...      -0.049130 -0.042764\n",
       "averageRating     0.026970          0.169823  ...       1.000000  0.354898\n",
       "numVotes          0.379888          0.528997  ...       0.354898  1.000000\n",
       "\n",
       "[8 rows x 8 columns]"
      ]
     },
     "execution_count": 25,
     "metadata": {},
     "output_type": "execute_result"
    }
   ],
   "source": [
    "df.corr(numeric_only=True)"
   ]
  },
  {
   "cell_type": "markdown",
   "metadata": {},
   "source": [
    "There are some redundant columns in this data set. Dropping those before proceeding:"
   ]
  },
  {
   "cell_type": "code",
   "execution_count": 26,
   "metadata": {},
   "outputs": [],
   "source": [
    "df = df.drop(columns='startYear')"
   ]
  },
  {
   "cell_type": "markdown",
   "metadata": {},
   "source": [
    "Run time should be numeric. Changing data type:"
   ]
  },
  {
   "cell_type": "code",
   "execution_count": 28,
   "metadata": {},
   "outputs": [],
   "source": [
    "df['runtimeMinutes'] = pd.to_numeric(df['runtimeMinutes'], errors='coerce')\n",
    "#show new correlation matrix\n",
    "df.corr(numeric_only=True)"
   ]
  },
  {
   "cell_type": "code",
   "execution_count": 30,
   "metadata": {},
   "outputs": [],
   "source": [
    "model_df = df.select_dtypes(include=['number'])"
   ]
  },
  {
   "cell_type": "markdown",
   "metadata": {},
   "source": [
    "model.csv save to data folder:"
   ]
  },
  {
   "cell_type": "code",
   "execution_count": 32,
   "metadata": {},
   "outputs": [],
   "source": [
    "model_df.to_csv('model.csv',index=True)"
   ]
  }
 ],
 "metadata": {
  "kernelspec": {
   "display_name": "first_env",
   "language": "python",
   "name": "first_env"
  },
  "language_info": {
   "codemirror_mode": {
    "name": "ipython",
    "version": 3
   },
   "file_extension": ".py",
   "mimetype": "text/x-python",
   "name": "python",
   "nbconvert_exporter": "python",
   "pygments_lexer": "ipython3",
   "version": "3.9.15"
  }
 },
 "nbformat": 4,
 "nbformat_minor": 2
}
